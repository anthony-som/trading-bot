{
 "cells": [
  {
   "cell_type": "code",
   "execution_count": null,
   "metadata": {},
   "outputs": [],
   "source": [
    "from alpaca.trading.client import TradingClient\n",
    "\n",
    "from alpaca.trading.enums import OrderSide, TimeInForce, QueryOrderStatus\n",
    "\n",
    "from dotenv import load_dotenv\n",
    "import os\n",
    "\n",
    "load_dotenv()\n",
    "\n",
    "API_KEY = os.getenv(\"API_KEY\")\n",
    "API_SECRET = os.getenv(\"API_SECRET\")"
   ]
  },
  {
   "cell_type": "code",
   "execution_count": null,
   "metadata": {},
   "outputs": [],
   "source": [
    "trading_client = TradingClient(API_KEY, API_SECRET)"
   ]
  },
  {
   "cell_type": "markdown",
   "metadata": {},
   "source": [
    "## Request Market Data"
   ]
  },
  {
   "cell_type": "code",
   "execution_count": null,
   "metadata": {},
   "outputs": [],
   "source": [
    "from alpaca.data import StockHistoricalDataClient, StockTradesRequest\n",
    "from datetime import datetime\n",
    "\n",
    "data_client = StockHistoricalDataClient(API_KEY, API_SECRET)\n",
    "\n",
    "request_params = StockTradesRequest(\n",
    "    symbol_or_symbols=\"AAPL\",\n",
    "    start=datetime(2024, 4, 4, 14, 30),\n",
    "    end=datetime(2024, 4, 4, 14, 45)\n",
    ")\n",
    "\n",
    "trades = data_client.get_stock_trades(request_params)\n",
    "\n",
    "for trades in trades.data[\"AAPL\"]:\n",
    "    print(trades)\n",
    "    break"
   ]
  },
  {
   "cell_type": "markdown",
   "metadata": {},
   "source": [
    "## Market Order"
   ]
  },
  {
   "cell_type": "code",
   "execution_count": null,
   "metadata": {},
   "outputs": [],
   "source": [
    "from alpaca.trading.requests import MarketOrderRequest\n",
    "\n",
    "market_order_data = MarketOrderRequest(\n",
    "    symbol=\"BTC/USD\",\n",
    "    qty=1.2,\n",
    "    side=OrderSide.BUY,\n",
    "    time_in_force=TimeInForce.GTC\n",
    ")\n",
    "\n",
    "market_order = trading_client.submit_order(market_order_data)\n",
    "print(market_order)"
   ]
  },
  {
   "cell_type": "markdown",
   "metadata": {},
   "source": [
    "## Limit Order"
   ]
  },
  {
   "cell_type": "code",
   "execution_count": null,
   "metadata": {},
   "outputs": [],
   "source": [
    "from alpaca.trading.requests import LimitOrderRequest\n",
    "\n",
    "limit_order_data = LimitOrderRequest(\n",
    "    symbol=\"BTC/USD\",\n",
    "    qty=1.196999999,\n",
    "    side=OrderSide.SELL,\n",
    "    time_in_force=TimeInForce.GTC,\n",
    "    limit_price=69271.2\n",
    ")\n",
    "\n",
    "limit_order = trading_client.submit_order(limit_order_data)\n",
    "print(limit_order)"
   ]
  },
  {
   "cell_type": "markdown",
   "metadata": {},
   "source": [
    "## Get, Cancel, and Manage open orders"
   ]
  },
  {
   "cell_type": "code",
   "execution_count": null,
   "metadata": {},
   "outputs": [],
   "source": [
    "from alpaca.trading.requests import GetOrdersRequest\n",
    "\n",
    "request_params = GetOrdersRequest(\n",
    "    status=QueryOrderStatus.OPEN\n",
    ")\n",
    "\n",
    "orders = trading_client.get_orders(request_params)\n",
    "for order in orders:\n",
    "    print(order.id)"
   ]
  },
  {
   "cell_type": "code",
   "execution_count": null,
   "metadata": {},
   "outputs": [],
   "source": []
  }
 ],
 "metadata": {
  "kernelspec": {
   "display_name": "Python 3",
   "language": "python",
   "name": "python3"
  },
  "language_info": {
   "codemirror_mode": {
    "name": "ipython",
    "version": 3
   },
   "file_extension": ".py",
   "mimetype": "text/x-python",
   "name": "python",
   "nbconvert_exporter": "python",
   "pygments_lexer": "ipython3",
   "version": "3.9.0"
  }
 },
 "nbformat": 4,
 "nbformat_minor": 2
}
